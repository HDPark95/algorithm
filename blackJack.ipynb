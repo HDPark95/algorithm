{
  "nbformat": 4,
  "nbformat_minor": 0,
  "metadata": {
    "colab": {
      "name": "blackJack",
      "provenance": [],
      "authorship_tag": "ABX9TyOkgbNJVR2hH9h8ZLjFFisd"
    },
    "kernelspec": {
      "name": "python3",
      "display_name": "Python 3"
    }
  },
  "cells": [
    {
      "cell_type": "code",
      "metadata": {
        "colab": {
          "base_uri": "https://localhost:8080/"
        },
        "id": "ZSArsOqnyoHa",
        "outputId": "1bf0ca4c-be69-4395-a4b2-3abcc84e7749"
      },
      "source": [
        "N, M = map(int, input().split())\n",
        "card = list(map(int,input().split(' ')))\n",
        "answer = 0\n",
        "for i in range(0, N-2):\n",
        "    for j in range(i+1,N-1):\n",
        "        for k in range(j+1,N):\n",
        "            if (card[i]+card[j]+card[k]) <= M and M - (card[i]+card[j]+card[k]) < M - answer:\n",
        "                answer = card[i]+card[j]+card[k]\n",
        "print(answer)\n"
      ],
      "execution_count": null,
      "outputs": [
        {
          "output_type": "stream",
          "text": [
            "5 21\n",
            "5 6 7 8 9\n",
            "21\n"
          ],
          "name": "stdout"
        }
      ]
    },
    {
      "cell_type": "code",
      "metadata": {
        "id": "b26_ek92yqVK"
      },
      "source": [
        ""
      ],
      "execution_count": null,
      "outputs": []
    }
  ]
}